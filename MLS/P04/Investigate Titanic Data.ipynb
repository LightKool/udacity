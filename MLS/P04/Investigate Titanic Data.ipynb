{
 "cells": [
  {
   "cell_type": "markdown",
   "metadata": {},
   "source": [
    "# 分析泰坦尼克号数据\n",
    "\n",
    "## 提出问题\n",
    "\n",
    "`titanic-data.csv`中包含了泰坦尼克号上2224名乘客和船员中891名的人口学数据和乘客基本信息，包括：\n",
    "\n",
    "* 是否幸存\n",
    "* 舱位等级\n",
    "* 性别\n",
    "* 年龄\n",
    "* 同船的亲属或配偶数量\n",
    "* 同船的父母或子女数量\n",
    "* 票号\n",
    "* 票价\n",
    "* 舱号\n",
    "* 上船地点\n",
    "\n",
    "我们想要通过这些数据研究的是：\n",
    "\n",
    "`各种因素是否会对船上的人员幸存率产生影响？这种影响是提高幸存率还是降低幸存率？`\n",
    "\n",
    "### 猜想\n",
    "\n",
    "我们可以先根据常识对一些可能会对幸存率产生影响的因素进行猜想：\n",
    "\n",
    "* 是否幸存\n",
    "* **舱位等级**\n",
    "* **性别**\n",
    "* **年龄**\n",
    "* **同船的亲属或配偶数量**\n",
    "* **同船的父母或子女数量**\n",
    "* 票号\n",
    "* 票价\n",
    "* 舱号\n",
    "* 上船地点\n",
    "\n",
    "### 导入原始数据\n",
    "\n",
    "我们首先用python导入原始数据："
   ]
  },
  {
   "cell_type": "code",
   "execution_count": 1,
   "metadata": {},
   "outputs": [],
   "source": [
    "import math\n",
    "import pandas as pd\n",
    "\n",
    "# read data from csv file\n",
    "titanic_data = pd.read_csv('titanic-data.csv')\n",
    "\n",
    "def calculate_survival_ratio(survived):\n",
    "    \"\"\"This function calcuate the survival ratio through a survived panda.Series\n",
    "    \"\"\"\n",
    "    return survived.mean()"
   ]
  },
  {
   "cell_type": "markdown",
   "metadata": {},
   "source": [
    "### 年龄对幸存率的影响：\n",
    "\n",
    "我们首先来研究年龄对幸存率的影响，我们将年龄划分为几个区间：\n",
    "\n",
    "* 0至10岁\n",
    "* 10岁至20岁\n",
    "* 20岁至35岁\n",
    "* 35岁至60岁\n",
    "* 60岁以上\n",
    "\n",
    "然后我们利用pandas计算这些年龄区间的幸存率，并绘制成柱状图。"
   ]
  },
  {
   "cell_type": "code",
   "execution_count": 2,
   "metadata": {},
   "outputs": [],
   "source": [
    "def get_age_group(age):\n",
    "    \"\"\"This function convert age into age groups\n",
    "    \"\"\"\n",
    "    if age > 0.0 and age <= 10.0:\n",
    "        return \"0 - 10\"\n",
    "    elif age > 10.0 and age <= 20.0:\n",
    "        return \"10 - 20\"\n",
    "    elif age > 20.0 and age <= 35.0:\n",
    "        return \"20 - 35\"\n",
    "    elif age > 35.0 and age <= 60.0:\n",
    "        return \"35 - 60\"\n",
    "    else:\n",
    "        return \"Above 60\"\n",
    "\n",
    "def survival_ratio_by_age(data):\n",
    "    \"\"\"This function return the survival ratio according to the age.\n",
    "    \"\"\"\n",
    "    # only need to columns for this analysis and drop data of which age is invalid\n",
    "    survived_by_age = data[['Survived', 'Age']].dropna(subset=['Age'])\n",
    "    survived_by_age['Age'] = survived_by_age['Age'].apply(get_age_group)\n",
    "    return survived_by_age.groupby('Age')['Survived'].apply(calculate_survival_ratio)"
   ]
  },
  {
   "cell_type": "code",
   "execution_count": 3,
   "metadata": {
    "scrolled": false
   },
   "outputs": [
    {
     "name": "stdout",
     "output_type": "stream",
     "text": [
      "Populating the interactive namespace from numpy and matplotlib\n"
     ]
    },
    {
     "data": {
      "text/plain": [
       "<matplotlib.axes._subplots.AxesSubplot at 0x114e93610>"
      ]
     },
     "execution_count": 3,
     "metadata": {},
     "output_type": "execute_result"
    },
    {
     "data": {
      "image/png": "[encoded data removed]",
      "text/plain": [
       "<Figure size 432x288 with 1 Axes>"
      ]
     },
     "metadata": {},
     "output_type": "display_data"
    }
   ],
   "source": [
    "%pylab inline\n",
    "survival_ratio_by_age(titanic_data).plot(kind='bar')"
   ]
  },
  {
   "cell_type": "markdown",
   "metadata": {},
   "source": [
    "从以上图表我们可以明显的看出，年龄小于10岁的儿童的幸存率是最高的，同时年龄大于60岁的老人幸存率是最低的。\n",
    "\n",
    "这个结果较为符合常人的直觉，孩子在遇到灾难时是被优先照顾的群体，所以很可能幸存率会比较高，而老人由于年龄造成的健康状况的下降，在这种时候很可能无法成功的存活下来。\n",
    "\n",
    "### 性别读幸存率的影响"
   ]
  },
  {
   "cell_type": "code",
   "execution_count": 4,
   "metadata": {},
   "outputs": [],
   "source": [
    "def survival_ratio_by_sex(data):\n",
    "    \"\"\"This function returns the survival ratio according to the sex.\n",
    "    \"\"\"\n",
    "    survived_by_sex = data[['Survived', 'Sex']]\n",
    "    return survived_by_sex.groupby('Sex')['Survived'].apply(calculate_survival_ratio)"
   ]
  },
  {
   "cell_type": "code",
   "execution_count": 5,
   "metadata": {},
   "outputs": [
    {
     "name": "stdout",
     "output_type": "stream",
     "text": [
      "Populating the interactive namespace from numpy and matplotlib\n"
     ]
    },
    {
     "data": {
      "text/plain": [
       "<matplotlib.axes._subplots.AxesSubplot at 0x1204860d0>"
      ]
     },
     "execution_count": 5,
     "metadata": {},
     "output_type": "execute_result"
    },
    {
     "data": {
      "image/png": "[encoded data removed]",
      "text/plain": [
       "<Figure size 432x288 with 1 Axes>"
      ]
     },
     "metadata": {},
     "output_type": "display_data"
    }
   ],
   "source": [
    "%pylab inline\n",
    "survival_ratio_by_sex(titanic_data).plot(kind='bar')"
   ]
  },
  {
   "cell_type": "markdown",
   "metadata": {},
   "source": [
    "从以上图我们可以看出，女性的幸存率要远远高于男性。我们可以认为作为弱势群体被优先照顾的女性在遇到灾难时的确会有较高的幸存率。\n",
    "\n",
    "### 舱位等级对幸存率的影响"
   ]
  },
  {
   "cell_type": "code",
   "execution_count": 6,
   "metadata": {},
   "outputs": [],
   "source": [
    "def survival_ratio_by_pclass(data):\n",
    "    \"\"\"This function returns the survival ratio according to the pclass.\n",
    "    \"\"\"\n",
    "    survived_by_pclass = data[['Survived', 'Pclass']]\n",
    "    return survived_by_pclass.groupby('Pclass')['Survived'].apply(calculate_survival_ratio)"
   ]
  },
  {
   "cell_type": "code",
   "execution_count": 7,
   "metadata": {},
   "outputs": [
    {
     "name": "stdout",
     "output_type": "stream",
     "text": [
      "Populating the interactive namespace from numpy and matplotlib\n"
     ]
    },
    {
     "data": {
      "text/plain": [
       "<matplotlib.axes._subplots.AxesSubplot at 0x1146a3fd0>"
      ]
     },
     "execution_count": 7,
     "metadata": {},
     "output_type": "execute_result"
    },
    {
     "data": {
      "image/png": "[encoded data removed]",
      "text/plain": [
       "<Figure size 432x288 with 1 Axes>"
      ]
     },
     "metadata": {},
     "output_type": "display_data"
    }
   ],
   "source": [
    "%pylab inline\n",
    "survival_ratio_by_pclass(titanic_data).plot(kind='bar')"
   ]
  },
  {
   "cell_type": "markdown",
   "metadata": {},
   "source": [
    "从以上图看出，从一等舱到三等舱可以看出一个很明显的下降趋势。我们可以认为舱位越高，幸存率越高。\n",
    "\n",
    "### 同船的亲属或配偶数量对幸存率的影响"
   ]
  },
  {
   "cell_type": "code",
   "execution_count": 8,
   "metadata": {},
   "outputs": [],
   "source": [
    "def survival_ratio_by_sibsp(data):\n",
    "    \"\"\"This function returns the survival ratio according to the siblings number.\n",
    "    \"\"\"\n",
    "    survived_by_sibsp = data[['Survived', 'SibSp']]\n",
    "    return survived_by_sibsp.groupby('SibSp')['Survived'].apply(calculate_survival_ratio)"
   ]
  },
  {
   "cell_type": "code",
   "execution_count": 9,
   "metadata": {},
   "outputs": [
    {
     "name": "stdout",
     "output_type": "stream",
     "text": [
      "Populating the interactive namespace from numpy and matplotlib\n"
     ]
    },
    {
     "data": {
      "text/plain": [
       "<matplotlib.axes._subplots.AxesSubplot at 0x120632290>"
      ]
     },
     "execution_count": 9,
     "metadata": {},
     "output_type": "execute_result"
    },
    {
     "data": {
      "image/png": "[encoded data removed]",
      "text/plain": [
       "<Figure size 432x288 with 1 Axes>"
      ]
     },
     "metadata": {},
     "output_type": "display_data"
    }
   ],
   "source": [
    "%pylab inline\n",
    "survival_ratio_by_sibsp(titanic_data).plot(kind='bar')"
   ]
  },
  {
   "cell_type": "markdown",
   "metadata": {},
   "source": [
    "从上图我们看不出有什么规律。我们可以认为同船的亲属或配偶数量对幸存率没有太多的影响。\n",
    "\n",
    "### 同船的父母或子女数量对幸存率的影响"
   ]
  },
  {
   "cell_type": "code",
   "execution_count": 10,
   "metadata": {},
   "outputs": [],
   "source": [
    "def survival_ratio_by_parch(data):\n",
    "    \"\"\"This function returns the survival ratio according to the parent/children number.\n",
    "    \"\"\"\n",
    "    survived_by_parch = data[['Survived', 'Parch']]\n",
    "    return survived_by_parch.groupby('Parch')['Survived'].apply(calculate_survival_ratio)"
   ]
  },
  {
   "cell_type": "code",
   "execution_count": 11,
   "metadata": {},
   "outputs": [
    {
     "name": "stdout",
     "output_type": "stream",
     "text": [
      "Populating the interactive namespace from numpy and matplotlib\n"
     ]
    },
    {
     "data": {
      "text/plain": [
       "<matplotlib.axes._subplots.AxesSubplot at 0x12072b350>"
      ]
     },
     "execution_count": 11,
     "metadata": {},
     "output_type": "execute_result"
    },
    {
     "data": {
      "image/png": "[encoded data removed]",
      "text/plain": [
       "<Figure size 432x288 with 1 Axes>"
      ]
     },
     "metadata": {},
     "output_type": "display_data"
    }
   ],
   "source": [
    "%pylab inline\n",
    "survival_ratio_by_parch(titanic_data).plot(kind='bar')"
   ]
  },
  {
   "cell_type": "markdown",
   "metadata": {},
   "source": [
    "从上图我们看不出有什么规律。我们可以认为同船的父母或子女数量对幸存率没有太多的影响。\n",
    "\n",
    "### 结论\n",
    "\n",
    "虽然这份泰坦尼克号的幸存者数据量有限，并且也不能代表所有类似的灾难事件，但通过以上的分析，并且结合一些人们的常识判断，我们仍然可以得出某些因素确实和幸存率之间存在一定的联系。\n",
    "\n",
    "* 年龄小(<10)的儿童幸存率较高\n",
    "* 年龄大(>60)的老人幸存率较低\n",
    "* 女性的幸存率较男性高\n",
    "* 舱位越高(票价越贵)幸存率越高\n",
    "\n",
    "这些因素虽然不是决定幸存率高低的绝对原因，但仍然影响这人们在遭遇灾难时的幸存率。"
   ]
  }
 ],
 "metadata": {
  "kernelspec": {
   "display_name": "Python 2",
   "language": "python",
   "name": "python2"
  },
  "language_info": {
   "codemirror_mode": {
    "name": "ipython",
    "version": 2
   },
   "file_extension": ".py",
   "mimetype": "text/x-python",
   "name": "python",
   "nbconvert_exporter": "python",
   "pygments_lexer": "ipython2",
   "version": "2.7.14"
  }
 },
 "nbformat": 4,
 "nbformat_minor": 2
}
